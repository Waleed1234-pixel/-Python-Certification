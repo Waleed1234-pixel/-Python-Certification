{
  "metadata": {
    "kernelspec": {
      "name": "python",
      "display_name": "Python (Pyodide)",
      "language": "python"
    },
    "language_info": {
      "codemirror_mode": {
        "name": "python",
        "version": 3
      },
      "file_extension": ".py",
      "mimetype": "text/x-python",
      "name": "python",
      "nbconvert_exporter": "python",
      "pygments_lexer": "ipython3",
      "version": "3.8"
    }
  },
  "nbformat_minor": 4,
  "nbformat": 4,
  "cells": [
    {
      "cell_type": "markdown",
      "source": "                                          # **AI Assignment 1 – Python and Pandas**",
      "metadata": {}
    },
    {
      "cell_type": "markdown",
      "source": "# **Task 1**\n## For each Concept in the Initial Tutorial(for e.g., Variables, String, List, Tuple, \n## Dictionary etc.) write down\n",
      "metadata": {}
    },
    {
      "cell_type": "markdown",
      "source": "# Variable:\n\n## Definition\nA variable in Python is a name that stores a value, and this value can change as the program runs. You don't need to tell Python the type of value; it figures it out automatically based on what you store in the variable.",
      "metadata": {}
    },
    {
      "cell_type": "markdown",
      "source": "## Purpose\nThe purpose of variables is to store and manage data in a program so that it can be manipulated and reused throughout the execution. Variables provide a way to refer to data by name rather than by the data itself, making code more readable and easy to understand.",
      "metadata": {}
    },
    {
      "cell_type": "markdown",
      "source": "## Importance\n1. **Reusability**: Variables allow the same value to be used in multiple places.\n2. **Data Handling**: we can store different types of data like integers, strings, floats, lists, etc.\n3. **Versatility**: Python variables are versatile because they can hold values of different data types, and their type can be changed at any point during program execution.",
      "metadata": {}
    },
    {
      "cell_type": "markdown",
      "source": "## Applications\n1. **Mathematical Operations**: Variables can be used to store numbers for calculations.\n2. **Storing User Input**: Used to store inputs taken from users.\n3. **Data Manipulation**: In machine learning, data stored in variables can be manipulated and processed for training models.",
      "metadata": {}
    },
    {
      "cell_type": "markdown",
      "source": "## Strengths\n1. **Dynamic Typing**: You don't have to specify the type of a variable. Python automatically figures it out, which makes coding easier.\n2. **Versatility**: Variables can hold different types of data, and you can change the type whenever needed during the program.\n3. **Readability**: Using clear, meaningful variable names makes the code easier to read and understand.",
      "metadata": {}
    },
    {
      "cell_type": "markdown",
      "source": "## Weaknesses\n1. **Performance Overhead**: Python’s dynamic typing can make it slower compared to statically typed languages like Java.\n2. **Type Errors**: Dynamic typing may lead to errors if different types of data are mixed accidentally.",
      "metadata": {}
    },
    {
      "cell_type": "markdown",
      "source": "##  Suitable to Use\n1. **Storing User Inputs**: If our program needs to take input from the user, variables are necessary to store and process that data.\n2. **Mathematical Calculations**: For storing numbers and performing calculations, variables are essential.\n3. **Functions**: When passing data to and from functions, variables help temporarily hold values.\n4. **Loops**: Variables are crucial for iterating through data.",
      "metadata": {}
    },
    {
      "cell_type": "markdown",
      "source": "# Examples",
      "metadata": {}
    },
    {
      "cell_type": "markdown",
      "source": "# Example-1\nGiven:\nStore roll numbers and names of students.",
      "metadata": {}
    },
    {
      "cell_type": "code",
      "source": "# Task:\nroll_no1 = 201370162\nname1 = \"Muhammad Waleed Khawaja\"\n\nroll_no2 = 201370179\nname2 = \"Esha Ashfaq\"\n\nprint(\"Roll No:\", roll_no1, \"- Name:\", name1)\nprint(\"Roll No:\", roll_no2, \"- Name:\", name2)",
      "metadata": {
        "trusted": true
      },
      "outputs": [
        {
          "name": "stdout",
          "text": "Roll No: 201370162 - Name: Muhammad Waleed Khawaja\nRoll No: 201370179 - Name: Esha Ashfaq\n",
          "output_type": "stream"
        }
      ],
      "execution_count": 1
    },
    {
      "cell_type": "markdown",
      "source": "# Example-2\nGiven:\nStore the names of vegetables and their prices.",
      "metadata": {}
    },
    {
      "cell_type": "code",
      "source": "# Task\nvegetable1 = \"Tomato\"\nprice1 = 50 \n\nvegetable2 = \"Potato\"\nprice2 = 30\n\nprint(vegetable1, \"price per kg:\", price1)\nprint(vegetable2, \"price per kg:\", price2)",
      "metadata": {
        "trusted": true
      },
      "outputs": [
        {
          "name": "stdout",
          "text": "Tomato price per kg: 50\nPotato price per kg: 30\n",
          "output_type": "stream"
        }
      ],
      "execution_count": 2
    },
    {
      "cell_type": "code",
      "source": "# Real-World Problem: Grade Calculation for Multiple Students\nmarks = {\n    \"Muhammad Waleed Khawaja\": [85, 90, 88],\n    \"Esha Ashfaq\": [78, 82, 85],\n    \"Ali Ahmed\": [60, 65, 70]\n}\n\npassing_threshold = 70\n\nfor name, scores in marks.items():\n    average = sum(scores) / len(scores)\n    status = \"Pass\" if average >= passing_threshold else \"Fail\"\n    print(f\"{name} - Average Grade: {average:.2f} - Status: {status}\")\n\n",
      "metadata": {
        "trusted": true
      },
      "outputs": [],
      "execution_count": null
    },
    {
      "cell_type": "markdown",
      "source": "# Pandas:\n## Definition\nPandas is an open-source data analysis and manipulation library for Python. It provides powerful data structures like Series and DataFrame that facilitate working with structured data. Its not part of the standard python library so is imported.",
      "metadata": {}
    },
    {
      "cell_type": "markdown",
      "source": "## Purpose\nThe primary purpose of Pandas is to simplify the process of data manipulation and analysis. It allows users to efficiently handle tasks such as filtering, grouping, aggregating, and merging datasets.",
      "metadata": {}
    },
    {
      "cell_type": "markdown",
      "source": "## Importance\nCan process large volumes of data efficiently, transforming raw data into meaningful information that can drive decision-making and strategic planning.",
      "metadata": {}
    },
    {
      "cell_type": "markdown",
      "source": "## Applications\n1. **Finance**: Analyzing stock prices, predicting future financial outcomes for a business or investment based on previous data and market trends.\n2. **Healthcare**: Managing patient records, analyzing treatment outcomes.\n3. **Recommendation Systems**: These models are made in python and Pandas being the main libraries of python, used when handling data in such models.\n4. **Economics**: a lot of economists have started using Python and Pandas to analyze huge datasets. Pandas provide a comprehensive set of tools, like dataframes and file-handling. These tools help immensely in accessing and manipulating data to get the desired results. ",
      "metadata": {}
    },
    {
      "cell_type": "markdown",
      "source": "## Strengths\n1. **User-Friendly**: Simple structures and functions make data handling easy.\n2. **Versatile** : Works with various file formats like CSV, Excel, and SQL, with options for custom indexing.\n3. **High Performance**: Built for fast processing of large datasets. ",
      "metadata": {}
    },
    {
      "cell_type": "markdown",
      "source": "## Weaknesses\n1. **Memory Consumption**: Can be memory-intensive, especially with very large datasets.\n\n2. **Speed Limitations**: Operations on extremely large datasets may be slower compared to specialized tools.",
      "metadata": {}
    },
    {
      "cell_type": "markdown",
      "source": "##  Suitable to Use\n1. **Data Cleaning and Preprocessing**: Preparing data for analysis or machine learning.\n \n2. **Data Analysis**: Common patterns and insights from data.\n \n3. **Integration with Visualization Tools**: Creating plots and charts using libraries like Matplotlib.\n",
      "metadata": {}
    },
    {
      "cell_type": "markdown",
      "source": "# Examples",
      "metadata": {}
    },
    {
      "cell_type": "markdown",
      "source": "# Example-1\nGiven:\nA dataset containing employee information.",
      "metadata": {}
    },
    {
      "cell_type": "code",
      "source": "#Task\n\nimport pandas as pd\n\n# Sample employee data\ndata = {\n    'EmployeeID': [101, 102, 103, 104, 105],\n    'Name': ['Waleed', 'Esha', 'Kinza', 'Aseef', 'Ahmed'],\n    'Department': ['HR', 'Engineering', 'Engineering', 'Marketing', 'HR'],\n    'Salary': [70000, 80000, 75000, 90000, 65000]\n}\nemployees = pd.DataFrame(data)\n\n# Set EmployeeID as the index\nemployees.set_index('EmployeeID', inplace=True)\n\nhigh_earners = employees.loc[employees['Salary'] > 70000]\nprint(\"High Earners:\\n\", high_earners)\n\naverage_salary = high_earners['Salary'].mean()\nprint(\"\\nAverage Salary of High Earners:\", average_salary)\n",
      "metadata": {
        "trusted": true
      },
      "outputs": [
        {
          "name": "stdout",
          "text": "High Earners:\n              Name   Department  Salary\nEmployeeID                            \n102         Ahmed  Engineering   80000\n103         Kinza  Engineering   75000\n104         Aseef    Marketing   90000\n\nAverage Salary of High Earners: 81666.66666666667\n",
          "output_type": "stream"
        }
      ],
      "execution_count": 2
    },
    {
      "cell_type": "markdown",
      "source": "# Example-2\nGiven:\nA dataset containing monthly sales.",
      "metadata": {}
    },
    {
      "cell_type": "code",
      "source": "import pandas as pd\n\n# Sample sales data\ndata = {\n    'Month': ['January', 'February', 'March', 'April', 'May'],\n    'Sales': [15000, 18000, 12000, 17000, 16000],\n    'Profit': [3000, 4000, 2500, 3500, 3200]\n}\nsales = pd.DataFrame(data)\n\n# Select the first three rows using iloc\nfirst_three = sales.iloc[0:3]\nprint(\"First Three Months:\\n\", first_three)\n\n# Calculate total sales for the first three months\ntotal_sales = first_three['Sales'].sum()\nprint(\"\\nTotal Sales for First Three Months:\", total_sales)\n",
      "metadata": {
        "trusted": true
      },
      "outputs": [
        {
          "name": "stdout",
          "text": "First Three Months:\n       Month  Sales  Profit\n0   January  15000    3000\n1  February  18000    4000\n2     March  12000    2500\n\nTotal Sales for First Three Months: 45000\n",
          "output_type": "stream"
        }
      ],
      "execution_count": 3
    },
    {
      "cell_type": "markdown",
      "source": "# Example-3\nGiven: A dataset containing information about WWE wrestlers, including their unique IDs, names, weight classes, number of championships won, and nationality.",
      "metadata": {}
    },
    {
      "cell_type": "code",
      "source": "#Task\nimport pandas as pd\n\n# Sample WWE wrestlers data\ndata = {\n    'WrestlerID': [501, 502, 503, 504, 505],\n    'Name': ['John Cena', 'The Rock', 'Stone Cold Steve Austin', 'Triple H', 'Roman Reigns'],\n    'WeightClass': ['Heavyweight', 'Heavyweight', 'Heavyweight', 'Heavyweight', 'Heavyweight'],\n    'Championships': [16, 10, 6, 14, 4],\n    'Nationality': ['American', 'American', 'American', 'American', 'American']\n}\n\n# Create the DataFrame\nwwe_wrestlers = pd.DataFrame(data)\n\n# Set WrestlerID as the index\nwwe_wrestlers.set_index('WrestlerID', inplace=True)\n\n# Display the DataFrame\nprint(\"WWE Wrestlers DataFrame:\\n\", wwe_wrestlers)\n\n# Select wrestlers in the 'Heavyweight' class using loc\nheavyweight_wrestlers = wwe_wrestlers.loc[wwe_wrestlers['WeightClass'] == 'Heavyweight']\nprint(\"\\nHeavyweight Wrestlers:\\n\", heavyweight_wrestlers)\n\n# Calculate the average number of championships won\naverage_championships = heavyweight_wrestlers['Championships'].mean()\nprint(\"\\nAverage Number of Championships Won:\", average_championships)\n\n# Loop through each wrestler using iterrows()\nprint(\"\\nWWE Wrestler Details:\")\nfor wrestler_id, row in wwe_wrestlers.iterrows():\n    print(f\"Wrestler ID: {wrestler_id}, Name: {row['Name']}, Championships: {row['Championships']}, Nationality: {row['Nationality']}\")\n",
      "metadata": {
        "trusted": true
      },
      "outputs": [
        {
          "name": "stdout",
          "text": "WWE Wrestlers DataFrame:\n                                Name  WeightClass  Championships Nationality\nWrestlerID                                                                 \n501                       John Cena  Heavyweight             16    American\n502                        The Rock  Heavyweight             10    American\n503         Stone Cold Steve Austin  Heavyweight              6    American\n504                        Triple H  Heavyweight             14    American\n505                    Roman Reigns  Heavyweight              4    American\n\nHeavyweight Wrestlers:\n                                Name  WeightClass  Championships Nationality\nWrestlerID                                                                 \n501                       John Cena  Heavyweight             16    American\n502                        The Rock  Heavyweight             10    American\n503         Stone Cold Steve Austin  Heavyweight              6    American\n504                        Triple H  Heavyweight             14    American\n505                    Roman Reigns  Heavyweight              4    American\n\nAverage Number of Championships Won: 10.0\n\nWWE Wrestler Details:\nWrestler ID: 501, Name: John Cena, Championships: 16, Nationality: American\nWrestler ID: 502, Name: The Rock, Championships: 10, Nationality: American\nWrestler ID: 503, Name: Stone Cold Steve Austin, Championships: 6, Nationality: American\nWrestler ID: 504, Name: Triple H, Championships: 14, Nationality: American\nWrestler ID: 505, Name: Roman Reigns, Championships: 4, Nationality: American\n",
          "output_type": "stream"
        }
      ],
      "execution_count": 4
    },
    {
      "cell_type": "markdown",
      "source": "# String:",
      "metadata": {}
    },
    {
      "cell_type": "markdown",
      "source": "## Definition\nA string is a sequence of characters used to represent text in Python. Characters can include letters, numbers, punctuation marks, spaces, and more. For example, the string \"Hello\" consists of five characters.",
      "metadata": {}
    },
    {
      "cell_type": "markdown",
      "source": "## Purpose\nStrings are essential for handling and manipulating textual data. They are used to store information such as names, addresses, messages, and any other form of text. Strings allow for operations like searching, formatting, and modifying text, which are fundamental in various programming tasks.",
      "metadata": {}
    },
    {
      "cell_type": "markdown",
      "source": "## Importance\nCrucial for user interaction, data processing, and communication.",
      "metadata": {}
    },
    {
      "cell_type": "markdown",
      "source": "## Applications\n\n1. **Network communication**: Strings are used to encode and decode data sent over networks, such as HTTP requests and responses.\n2. **Data analysis**: Strings can be used to extract meaningful insights from large amounts of text data, such as natural language processing and sentiment analysis.\n3. **File handling**: Strings are used to manipulate file paths and names, and to read and write files.",
      "metadata": {}
    },
    {
      "cell_type": "markdown",
      "source": "## Strengths\n1. **Text Processing**: Strings are used to represent text in programming languages. They can be used to manipulate and process text in various ways, such as searching, replacing, parsing, and formatting.\n2. **Ease of Use**: Strings are easy to use and manipulate. They can be concatenated, sliced, and reversed, among other things. They also have a simple and intuitive syntax, making them accessible to programmers of all skill levels.\n3. **Rich Functionality**: A wide range of built-in methods for common string operations.",
      "metadata": {}
    },
    {
      "cell_type": "markdown",
      "source": "## Weaknesses\n\n1. **Memory Consumption**: Large strings can use significant memory.\n2. **Performance Overhead**: String operations can be slower than operations on other data types, especially when working with large or complex strings. This is because string operations often involve copying and reallocating memory, which can be time-consuming.\n3. **Immutability**: Strings cannot be changed once created.",
      "metadata": {}
    },
    {
      "cell_type": "markdown",
      "source": "## Suitable to use\nDisplaying Messages\nStoring Names and Identifiers\nFormatting Data\nSearching and Replacing Text",
      "metadata": {}
    },
    {
      "cell_type": "markdown",
      "source": "# Example 1: Formatting a Bank Account Statement\n## Given: A user's first name, last name, and account balance stored in separate variables.\n## Task: Concatenate the first and last names to create a full name and format a statement message displaying the user's name and account balance.",
      "metadata": {}
    },
    {
      "cell_type": "code",
      "source": "# Given\nfirst_name = \"Muhammad\"\nlast_name = \"Waleed\"\nbalance = 1523.75\n\n# Task: Concatenate names and format statement message\nfull_name = first_name + \" \" + last_name\n# statement = f\"Dear {full_name}, your current account balance is ${balance:.2f}.\"\nprint(\"Dear %s, your current account balance is $%.2f\" % (full_name, balance))\n# print(statement)\n",
      "metadata": {
        "trusted": true
      },
      "outputs": [
        {
          "name": "stdout",
          "text": "Dear Muhammad Waleed, your current account balance is $1523.75\n",
          "output_type": "stream"
        }
      ],
      "execution_count": 8
    },
    {
      "cell_type": "markdown",
      "source": "# Example 2: Creating a Repeated Warning Message in a School System\n## Given: A warning message template that needs to be repeated multiple times for emphasis.\n## Task: Create a string that repeats the warning message five times and print it.",
      "metadata": {}
    },
    {
      "cell_type": "code",
      "source": "# Given\nwarning = \"Please submit your assignments on time.\"\n\n# Task: Repeat the warning message five times\nrepeated_warning = warning * 5\n\nprint(repeated_warning)\n",
      "metadata": {
        "trusted": true
      },
      "outputs": [
        {
          "name": "stdout",
          "text": "Please submit your assignments on time.Please submit your assignments on time.Please submit your assignments on time.Please submit your assignments on time.Please submit your assignments on time.\n",
          "output_type": "stream"
        }
      ],
      "execution_count": 9
    },
    {
      "cell_type": "markdown",
      "source": "# Example 3: Managing Library Book Codes\n## Given: A library book code in the format \"LIB1234\", where \"LIB\" represents the library code and \"1234\" represents the book number.\n## Task: Extract the library code and book number separately, and check if the book number starts with \"12\".",
      "metadata": {}
    },
    {
      "cell_type": "code",
      "source": "#Given\nbook_code = 'LIB1234'\n\n# Task: Extract library code and book number\nlibrary_code = book_code[:3]\nbook_number = book_code[3:]\n\n# Check if \"12\" is in the book number\ncontains_12 = \"12\" in book_number\n\nprint(\"Library Code:\", library_code)\nprint(\"Book Number:\", book_number)\nprint(\"Book Number contains 12?\", contains_12)\n",
      "metadata": {
        "trusted": true
      },
      "outputs": [
        {
          "name": "stdout",
          "text": "Library Code: LIB\nBook Number: 1234\nBook Number contains 12? True\n",
          "output_type": "stream"
        }
      ],
      "execution_count": 11
    },
    {
      "cell_type": "markdown",
      "source": "# Real World Example\n## Given: You have a user's email address, favcat312@gmail.com\n\n## Task \n1. Extract the username and domain from the email address.\n2. Format a personalized greeting message using the extracted username.\n3. Validate that the email address contains a valid format (i.e., it includes an \"@\" symbol).",
      "metadata": {}
    },
    {
      "cell_type": "code",
      "source": "# Given\nemail = \"favcat312@gmail.com\"\n\n# Task: Extract username and domain, create a greeting, and validate the email format\n\n# Step 1: Extract username and domain\nusername = email.split(\"@\")[0]  # Get the part before the '@'\ndomain = email.split(\"@\")[1]    # Get the part after the '@'\n\n# Step 2: Format a personalized greeting\ngreeting = f\"Hello, {username}! Welcome to our platform.\"\n\n# Step 3: Validate the email format\nis_valid_email = \"@\" in email  # Check if '@' exists in the email\n\n# Output results\nprint(greeting)                  # Prints: Hello, johndoe! Welcome to our platform.\nprint(\"Email domain:\", domain)   # Prints: Email domain: example.com\nprint(\"Is the email valid?\", is_valid_email)  # Prints: Is the email valid? True\n",
      "metadata": {
        "trusted": true
      },
      "outputs": [
        {
          "name": "stdout",
          "text": "Hello, favcat312! Welcome to our platform.\nEmail domain: gmail.com\nIs the email valid? True\n",
          "output_type": "stream"
        }
      ],
      "execution_count": 13
    },
    {
      "cell_type": "markdown",
      "source": "# Decision\nThe if statement is a decisional structure used to implement a decision. It executes specific code based on whether a condition is true or false. If the condition is true, the code block following the if is executed; otherwise, an optional else block may be executed.",
      "metadata": {}
    },
    {
      "cell_type": "markdown",
      "source": "# Purpose\nThe primary purpose of the if statement is to make decisions in code execution. Decisions in a program are used when the program has conditional choices to execute a code block",
      "metadata": {}
    },
    {
      "cell_type": "markdown",
      "source": "# Importance\n\n1. Conditional execution of code.\n2. Control over the flow of a program based on dynamic conditions.\n3. Proper use of these statements can lead to more efficient and readable code.\n4. Are crucial for creating branching paths in the code, allowing for different outcomes based on varying conditions.",
      "metadata": {}
    },
    {
      "cell_type": "markdown",
      "source": "# Applications\n\n1. User input validation (e.g., checking passwords).\n2. Decision-making in algorithms (e.g., sorting, searching).\n3. Game mechanics (e.g., determining win/lose conditions).",
      "metadata": {}
    },
    {
      "cell_type": "markdown",
      "source": "# Strengths\n1. Simplify complex code, as it promotes branching logic.\n2. Can Expand Code with logical nested ifs.\n3. Structural approach, easy to read.",
      "metadata": {}
    },
    {
      "cell_type": "markdown",
      "source": "# Weaknesses\n\n1. Can further complicate the code, if conditions are not structured properly.\n2. Over exposure to unecessary conditions, can compromise performance.\n",
      "metadata": {}
    },
    {
      "cell_type": "markdown",
      "source": "# Suitable to Use\n\nYou need to execute different actions based on varying conditions.\nImplementing user choices in applications.\nBuilding features that require different behaviors based on input.",
      "metadata": {}
    },
    {
      "cell_type": "markdown",
      "source": "# Example 1: Grade evaluation based on a score.\n## Given: A numerical value representing a student's score (e.g., score = 85).\n## Task: Determine the grade based on the score using the following criteria:\nA: Score 90 or above\nB: Score between 80 and 89\nC: Score between 70 and 79\nD: Score between 60 and 69\nF: Score below 60",
      "metadata": {}
    },
    {
      "cell_type": "code",
      "source": "score = 85\nif score >= 90:\n    print(\"Grade: A\")\nelif score >= 80:\n    print(\"Grade: B\")\nelif score >= 70:\n    print(\"Grade: C\")\nelif score >= 60:\n    print(\"Grade: D\")\nelse:\n    print(\"Grade: F\")\n",
      "metadata": {
        "trusted": true
      },
      "outputs": [
        {
          "name": "stdout",
          "text": "Grade: B\n",
          "output_type": "stream"
        }
      ],
      "execution_count": 14
    },
    {
      "cell_type": "markdown",
      "source": "# Example 2: User Login Validation.\n## Given: A user's username and password stored in separate variables.\n## Task: Validate the credentials",
      "metadata": {}
    },
    {
      "cell_type": "code",
      "source": "username = \"Waleed\"\npassword = \"w@leed12\"\n\nif username == \"Waleed\" and password == \"w@leed12\":\n    print(\"Login successful!\")\nelse:\n    print(\"Invalid username or password.\")\n",
      "metadata": {
        "trusted": true
      },
      "outputs": [
        {
          "name": "stdout",
          "text": "Login successful!\n",
          "output_type": "stream"
        }
      ],
      "execution_count": 1
    },
    {
      "cell_type": "markdown",
      "source": "# Example 3: Weather Decision\n## Given: A numerical value representing the current weather (e.g., temperature = 15)\n## Task: Suggest attire based on temperature using the following criteria:\n\n\"Wear a coat\" : temperature below 10\n\"A light jacket will do\" : temperature below 20\n\"It's warm; wear a t-shirt!\": if none",
      "metadata": {}
    },
    {
      "cell_type": "code",
      "source": "temperature = 15\nif temperature < 10:\n    print(\"Wear a coat!\")\nelif 10 <= temperature < 20:\n    print(\"A light jacket will do.\")\nelse:\n    print(\"It's warm; wear a t-shirt!\")\n",
      "metadata": {
        "trusted": true
      },
      "outputs": [
        {
          "name": "stdout",
          "text": "A light jacket will do.\n",
          "output_type": "stream"
        }
      ],
      "execution_count": 15
    },
    {
      "cell_type": "markdown",
      "source": "# Real-World Problem\n# Calculate shipping costs based on weight and destination\n\n## Given: Weight of the package and destination.\n\n## Task:\nIf the weight is over 5 kg, add a surcharge.\nIf the destination is international, apply additional fees.",
      "metadata": {}
    },
    {
      "cell_type": "code",
      "source": "weight = 6  # kg\nis_international = True  # True or False\n\nbase_cost = 50  # base shipping cost\nif weight > 5:\n    base_cost += 10  # surcharge for heavy packages\n\nif is_international:\n    base_cost += 20  # fee for international shipping\n\nprint(\"Your shipping cost is:\", base_cost)\n",
      "metadata": {
        "trusted": true
      },
      "outputs": [
        {
          "name": "stdout",
          "text": "Your shipping cost is: 80\n",
          "output_type": "stream"
        }
      ],
      "execution_count": 16
    },
    {
      "cell_type": "markdown",
      "source": "# List",
      "metadata": {}
    },
    {
      "cell_type": "markdown",
      "source": "## Definition\nA list in Python is an ordered collection of items that can hold elements of different data types. Lists are mutable, meaning their contents can be changed after creation. They are defined by enclosing elements within square brackets [ ], with elements separated by commas",
      "metadata": {}
    },
    {
      "cell_type": "markdown",
      "source": "## Purpose\nLists are used to store multiple items in a single variable, allowing for the organization, manipulation, and iteration over a collection of related data. ",
      "metadata": {}
    },
    {
      "cell_type": "markdown",
      "source": "## Importance\n\n1. **Data Organization**: Grouping related items together.\n2. **Dynamic Data Handling**: Allowing the addition, removal, and modification of elements.\n",
      "metadata": {}
    },
    {
      "cell_type": "markdown",
      "source": "## Applications\nImplementing stacks and queues\nSorting and sorting data\nMovie Recommendation System\nImage Processing\nHotel Reservation System",
      "metadata": {}
    },
    {
      "cell_type": "markdown",
      "source": "# Strengths\n\n1. **Mutable**: Easily modify, add, or remove elements.\n2. **Ordered**: Maintain the sequence of elements, allowing indexed access.\n3. **Flexible Data Types**: Store elements of varying types within the same list.\n4. **Rich Methods**: Provide numerous built-in methods for efficient data manipulation (e.g., append(), remove(), sort()).\n5. **Dynamic Sizing**: Automatically adjust in size as elements are added or removed.",
      "metadata": {}
    },
    {
      "cell_type": "markdown",
      "source": "# Weaknesses\n\n1. **Memory Consumption**: Can consume more memory compared to other data structures like tuples or arrays, especially with large datasets.\n2. **Performance**: Certain operations (like inserting or deleting elements in the middle) can be slower compared to other data structures optimized for such tasks.\n3. **Chances of Error**: Since lists can hold heterogeneous data types, unintended data type mixing can lead to errors if not managed carefully.",
      "metadata": {}
    },
    {
      "cell_type": "markdown",
      "source": "# Suitable to Use\n\n1. When ordered collection of data required\n2. When dealing with a sequence of items that may change over time.\n3. to modify the collection dynamically.",
      "metadata": {}
    },
    {
      "cell_type": "markdown",
      "source": "# Examples\n## Example 1: Student Grade Management\n## Given: A list of student names and their corresponding grades.\n\n## Task:\n\nAdd a new student and their grade to the list.\nRemove a student who has dropped the course.\nUpdate a student's grade.\nPrint the list of students and their grades.",
      "metadata": {}
    },
    {
      "cell_type": "code",
      "source": "#Given\nstudents = ['Waleed' , 'Esha', 'Ahmed', 'Kinza']\ngrades = [85,90,84,87]\n\n#Add a new student and their grade to the list.\nstudents.append(\"Aseef\")\ngrades.append(88)\nprint(\"New Student\", \"Name:\"+ \" \" + students[4], \"Grade:\" , grades[4])\n#Remove a student who has dropped the course.\nstudents.pop(2)\ngrades.pop(2)\n#Update a student's grade.\nWaleed = students.index('Waleed')\ngrades[Waleed] = 89\ngrades[Waleed]\n# Print the list of students and their grades.\nprint(\"Name\" + \"  \" + \"Grade\")\nfor i in range(len(students)):\n    print(f\"{students[i]}: {grades[i]}\")",
      "metadata": {
        "trusted": true
      },
      "outputs": [
        {
          "name": "stdout",
          "text": "New Student Name: Aseef Grade: 88\nName  Grade\nWaleed: 89\nEsha: 90\nKinza: 87\nAseef: 88\n",
          "output_type": "stream"
        }
      ],
      "execution_count": 14
    },
    {
      "cell_type": "markdown",
      "source": "## Example 2: Task Management System\n## Given: A list of tasks in a to-do list.\n\n## Task:\n\nAdd new tasks.\nMark tasks as completed by removing them from the list.\nInsert a high-priority task at the top of the list.\nPrint the updated task list.",
      "metadata": {}
    },
    {
      "cell_type": "code",
      "source": "# Given\ntasks = [\"Complete Assignment\", \"Read Quran\", \"Exercise\"]\n\n# Task 1: Add new tasks\ntasks.append(\"Go for a Walk\")\ntasks.append(\"Spend Quality time\")\nprint(\"After adding new tasks:\", tasks)\n\n# Task 2: Mark a task as completed (remove it)\n# Let's mark \"Exercise\" as completed\ntasks.remove(\"Exercise\")\nprint(\"After completing 'Exercise':\", tasks)\n\n# Task 3: Insert a high-priority task at the top\ntasks.insert(0, \"Complete Assignment\")\nprint(\"After inserting high-priority task:\", tasks)\n\n# Task 4: Print the updated task list\nprint(\"\\nUpdated To-Do List:\")\nfor idx, task in enumerate(tasks, start=1):\n    print(f\"{idx}. {task}\")\n",
      "metadata": {
        "trusted": true
      },
      "outputs": [
        {
          "name": "stdout",
          "text": "After adding new tasks: ['Complete Assignment', 'Read Quran', 'Exercise', 'Go for a Walk', 'Spend Quality time']\nAfter completing 'Exercise': ['Complete Assignment', 'Read Quran', 'Go for a Walk', 'Spend Quality time']\nAfter inserting high-priority task: ['Complete Assignment', 'Complete Assignment', 'Read Quran', 'Go for a Walk', 'Spend Quality time']\n\nUpdated To-Do List:\n1. Complete Assignment\n2. Complete Assignment\n3. Read Quran\n4. Go for a Walk\n5. Spend Quality time\n",
          "output_type": "stream"
        }
      ],
      "execution_count": 15
    },
    {
      "cell_type": "markdown",
      "source": "# Real World Example: Hospital Management System\n## Given\nA list of patients currently admitted to the hospital.\nEach patient is represented as a dictionary containing their name, age, diagnosis, and doctor.\n## Task\nAdd a new patient to the patient list.\nRemove a patient who has been discharged.\nUpdate a patient's diagnosis.\nDisplay the current list of patients with their details",
      "metadata": {}
    },
    {
      "cell_type": "code",
      "source": "# Given\npatients = [ [\"Imran Khan\", 45, \"Hypertension\", \"Dr. Smith\"],\n    [\"Waseem Akram\" , 30, \"Diabetes\", \"Dr. Pappu\"],\n    [\"Fawad Khan\", 25, \"Asthma\", \"Dr. Brown\"] ]\n# Task 1: Add a new patient\nnewPatient = [\"Irfan Khan\", 34, \"Arthrithis\", \"Dr Wick\"]\npatients.append(newPatient)\ndischarge_patient = \"Imran Khan\"\nfor patient in patients:\n    if patient[0] == discharge_patient:  # Checking name\n        patients.remove(patient)\n        print(f\"\\nPatient Discharged {discharge_patient}:\")\n        break\n",
      "metadata": {
        "trusted": true
      },
      "outputs": [
        {
          "name": "stdout",
          "text": "\nPatient Discharged Imran Khan:\n",
          "output_type": "stream"
        }
      ],
      "execution_count": 3
    },
    {
      "cell_type": "markdown",
      "source": "# Dictionary\n\n##Definition\nA dictionary is a mutable container that stores key-value pairs, where each unique key is associated with a specific value. Keys are always unique in the dictionary\nand are be of an immutable data type, i.e., strings, numbers",
      "metadata": {}
    },
    {
      "cell_type": "markdown",
      "source": "## Purpose\nTo store data in key-value pairs, allowing for fast data retrieval through represented relationships where each key is unique and maps to a specific value.",
      "metadata": {}
    },
    {
      "cell_type": "markdown",
      "source": "## Importance\nAs a dictionary, keeps the elements in key-value mapping format and internally uses hashing for it; therefore, we can get a value from the dictionary by its key very quickly. In best cases, its complexity is O(1), whereas, in the worst case, its complexity can be O(n).",
      "metadata": {}
    },
    {
      "cell_type": "markdown",
      "source": "## Applications\n## Game Development\nCan store character details, scores, and game settings for quick access while playing.\n## Software Settings\ncan keep track of user preferences and settings, making it easy to change options without altering the code.\n## User Profiles on Websites\ncan manage user information, like login sessions and shopping carts, for a better online experience.",
      "metadata": {}
    },
    {
      "cell_type": "markdown",
      "source": "## Strengths\n1. A value can easily be accessed via its key\n2. Fast access to values based on keys.",
      "metadata": {}
    },
    {
      "cell_type": "markdown",
      "source": "## Weaknesses\nDictionaries may consume more memory than other data structures like lists",
      "metadata": {}
    },
    {
      "cell_type": "markdown",
      "source": "## Suitable to use\nFast data retrieval is needed.\nWhere there's a need for unique identifiers for data.",
      "metadata": {}
    },
    {
      "cell_type": "markdown",
      "source": "# Examples\n## Example 1: A movie library for a Netflix-like platform, where we keep track of movies along with their genres using a dictionary \n## Given\nMovie library for a Netflix-like platform\n## Task\nPrint the genre of a specific movie\nUpdate the dict by adding a recently released movie",
      "metadata": {}
    },
    {
      "cell_type": "code",
      "source": "# Movie library for a Netflix-like platform\nlibrary = {\n    \"Inception\": \"Sci-Fi\",\n    \"The Shawshank Redemption\": \"Drama\",\n    \"The Dark Knight\": \"Action\",\n    \"Parasite\": \"Thriller\"\n}\n\n# Print the genre of a specific movie\nprint(library[\"The Shawshank Redemption\"])  # Output: Drama\n\n# Adding a recently released movie\nlibrary[\"Oppenheimer\"] = \"Historical Drama\"\n\n# Print the updated movie library\nprint(library)\n",
      "metadata": {
        "trusted": true
      },
      "outputs": [],
      "execution_count": null
    },
    {
      "cell_type": "markdown",
      "source": "## Example 2:  An inventory management system for a Pizza Hut shop, where we keep track of the prices and quantities of different types of pizzas.\n## Given\nInventory of a Pizza Hut shop\n## Task\n1. Show that all of the Pepperoni pizzas are sold out by removing it from today's inventory\n2. Add a new pizza to the stock\n",
      "metadata": {}
    },
    {
      "cell_type": "code",
      "source": " # Inventory of a Pizza Hut shop\ninventory = {\n    \"Margherita\": {\"price\": 8.5, \"quantity\":30},\n    \"Pepperoni\": {\"price\": 9.0, \"quantity\": 20},\n    \"BBQ Chicken\": {\"price\": 10.0, \"quantity\": 15}\n}\n\n#Pepperoni pizzas Sold out\ninventory.pop(\"Pepperoni\")\n\n#New Pizza\ninventory[\"Fajita\"] = {\"price\": 12.0, \"quantity\": 15}  \nprint(inventory)\n             ",
      "metadata": {
        "trusted": true
      },
      "outputs": [],
      "execution_count": null
    },
    {
      "cell_type": "markdown",
      "source": "## Example 3: Weather Forecasting\n## Given\nWeather Conditions on different days\n## Task\nOutput the weather conditions of wednesday",
      "metadata": {}
    },
    {
      "cell_type": "code",
      "source": "weather = {\n    \"Monday\": {\"temperature\": 20, \"condition\": \"Sunny\"},\n    \"Tuesday\": {\"temperature\": 18, \"condition\": \"Rainy\"},\n    \"Wednesday\": {\"temperature\": 22, \"condition\": \"Cloudy\"}\n}\nprint(weather[\"Wednesday\"][\"condition\"])  \n",
      "metadata": {
        "trusted": true
      },
      "outputs": [],
      "execution_count": null
    },
    {
      "cell_type": "markdown",
      "source": "# Real-world Problem Solving Example: Personal Budget Tracker",
      "metadata": {}
    },
    {
      "cell_type": "code",
      "source": "budget_tracker = {\n    \"Income\": {\n        \"Salary\": 50000,\n        \"Freelancing\": 5000\n    },\n    \"Expenses\": {\n        \"Rent\": 10000,    \n        \"Groceries\": 20000  \n    }\n}\n\ntotal_income = 0\ntotal_expenses = 0\n\n\n# for source, amount in budget_tracker[\"Income\"]:\n#     amount = budget_tracker[\"Income\"][source]  \n#     total_income += amount\n\nprint(\"Total Income:\", total_income) \n\n# for category, amount in budget_tracker[\"Expenses\"]:\n#     amount = budget_tracker[\"Expenses\"][category]\n#     total_expenses += amount\n\n# print(\"Total Expenses:\", total_expenses) \n\n# remaining_budget = total_income - total_expenses\n# print(\"Remaining Budget:\", remaining_budget)  \n",
      "metadata": {
        "trusted": true
      },
      "outputs": [
        {
          "name": "stdout",
          "text": "Total Income: 0\n",
          "output_type": "stream"
        }
      ],
      "execution_count": 5
    },
    {
      "cell_type": "markdown",
      "source": "# Function\n## Definition\nA function is a named block of code designed to perform a specific task. It may accept input values (parameters) and can return a result. A function is only executed when it is called, and if it has parameters, arguments must be passed when calling it.",
      "metadata": {}
    },
    {
      "cell_type": "markdown",
      "source": "## Purpose\nThey help subdivide tasks into smaller, reusable parts. This improves code organization, making it easier to understand, debug, and maintain. Functions also promote reusability, allowing you to call the same code multiple times without rewriting it.",
      "metadata": {}
    },
    {
      "cell_type": "markdown",
      "source": "## Importance\nFunctions eliminate unnecessary code duplication, enhance code readability, and promote reusability, making the program more efficient and easier to maintain.",
      "metadata": {}
    },
    {
      "cell_type": "markdown",
      "source": "## Applications\n**Real-World Application**:\nFunctions are used in web apps to handle server requests, automate repetitive tasks, and process data for analyzing and organizing large amounts of information.\n**Usage in Code**:\nFunctions help organize code by breaking it into smaller, reusable parts. They allow for cleaner code structure, prevent duplication, and make debugging easier.",
      "metadata": {}
    },
    {
      "cell_type": "markdown",
      "source": "## Strengths\n1. Code Reusability\n2. Cleaner Code\n3. Automating tasks that need to be done over and over again",
      "metadata": {}
    },
    {
      "cell_type": "markdown",
      "source": "## Weaknesses\n1. Too many small functions can make the code harder to follow.\n2. Too many parameters, can raise complexity.",
      "metadata": {}
    },
    {
      "cell_type": "markdown",
      "source": "## Suitable to use\n1. If you find yourself writing the same code multiple times, you can create a function to avoid repetition.\n\n2. When your code is too complex, functions will help break down complex problems into smaller, manageable parts. If you need to update your code, you can update your code  in one place (the function) rather than in multiple locations.\n",
      "metadata": {}
    },
    {
      "cell_type": "markdown",
      "source": "# Examples\n## Example 1: Greet Users \n## Given: A user's name.\n## Task: Write a function that takes a name as an argument and prints a greeting message.\n",
      "metadata": {}
    },
    {
      "cell_type": "code",
      "source": "def greet(name):\n  print(\"Hello\",  name)\n\ngreet(\"Waleed\")",
      "metadata": {
        "trusted": true
      },
      "outputs": [
        {
          "name": "stdout",
          "text": "Hello Waleed\n",
          "output_type": "stream"
        }
      ],
      "execution_count": 8
    },
    {
      "cell_type": "markdown",
      "source": "# Example 2: Calculate Sum.\n# Given: A list of numbers.\n# Task: Write a function that takes a list as an argument and returns the sum of its elements.",
      "metadata": {}
    },
    {
      "cell_type": "code",
      "source": "def calculate_sum(numbers):\n    return sum(numbers)\n\nresult = calculate_sum([1, 2, 3, 4, 5])\nprint(\"Sum of the list:\", result)  # Output: Sum of the list: 15\n",
      "metadata": {
        "trusted": true
      },
      "outputs": [],
      "execution_count": null
    },
    {
      "cell_type": "markdown",
      "source": "# Example 3: Multiplication Table.\n# Given: A number of type int.\n# Task: Write a function that takes a number as an argument and calculate and print the multiplication table of a given number up to 10.",
      "metadata": {}
    },
    {
      "cell_type": "code",
      "source": "def multiplication(number):\n    for i in range(1,11):\n        result = number*i\n        print(f\"{number} * {i} = {result}\")\nmultiplication(5)",
      "metadata": {
        "trusted": true
      },
      "outputs": [
        {
          "name": "stdout",
          "text": "5 * 1 = 5\n5 * 2 = 10\n5 * 3 = 15\n5 * 4 = 20\n5 * 5 = 25\n5 * 6 = 30\n5 * 7 = 35\n5 * 8 = 40\n5 * 9 = 45\n5 * 10 = 50\n",
          "output_type": "stream"
        }
      ],
      "execution_count": 10
    },
    {
      "cell_type": "markdown",
      "source": "# Real-World Problem\n# Calculate shipping costs based on weight and destination\n\n## Given: Weight of the package and destination.\n\n## Task:\nWrite a function that does the following:\nIf the weight is over 5 kg, add a surcharge.\nIf the destination is international, apply additional fees.",
      "metadata": {}
    },
    {
      "cell_type": "code",
      "source": "def calculate_shipping_cost(weight, is_international):\n    base_cost = 50  # base shipping cost\n    \n    if weight > 5:\n        base_cost += 10  # surcharge for heavy packages\n    \n    if is_international:\n        base_cost += 20  # fee for international shipping\n\n    return base_cost\n\n# Example usage\nweight = 6  # kg\nis_international = True  # True or False\n\nshipping_cost = calculate_shipping_cost(weight, is_international)\nprint(\"Your shipping cost is:\", shipping_cost)  # Output: Your shipping cost is: 80",
      "metadata": {
        "trusted": true
      },
      "outputs": [],
      "execution_count": null
    },
    {
      "cell_type": "markdown",
      "source": "# Lambda Function\n## Definition\nLambda functions are similar to user-defined functions but without a name. They not have a return keyword as they will automatically return the result of the expression in the function once it is executed.",
      "metadata": {}
    },
    {
      "cell_type": "markdown",
      "source": "## Purpose\n",
      "metadata": {}
    },
    {
      "cell_type": "markdown",
      "source": "## Applications of Lambda Functions in Python\n1. Lambda with filter()\nThe filter() function selects items from an iterable like based on a condition.\n\n**Example 2**:",
      "metadata": {}
    },
    {
      "cell_type": "code",
      "source": "lst = [1, 3, 5, 7, 11]\nfiltered = list(filter(lambda x: x > 10, lst))\nprint(filtered)  # [11]\n",
      "metadata": {
        "trusted": true
      },
      "outputs": [
        {
          "name": "stdout",
          "text": "[11]\n",
          "output_type": "stream"
        }
      ],
      "execution_count": 3
    },
    {
      "cell_type": "markdown",
      "source": " 2. Lambda with map()\nThe map() function applies a function to each item of an iterable.\n\n**Example 3**:\n",
      "metadata": {}
    },
    {
      "cell_type": "code",
      "source": "lst = [1, 2, 3, 4, 5]\nmapped = list(map(lambda x: x * 10, lst))\nprint(mapped)  # [10, 20, 30, 40, 50]",
      "metadata": {
        "trusted": true
      },
      "outputs": [],
      "execution_count": null
    },
    {
      "cell_type": "markdown",
      "source": "## Suitable to Use\nLambda functions are efficient whenever you want to create a function that will only contain simple expressions, expressions that are usually a single line of a statement. ",
      "metadata": {}
    },
    {
      "cell_type": "markdown",
      "source": "## Strengths\n1. Ideal for evaluating a single expression used just once.\n2. Can be called immediately after being defined.\n3. Has a shorter, simpler syntax than a regular function.",
      "metadata": {}
    },
    {
      "cell_type": "markdown",
      "source": "## Weaknesses\n1. Can't handle multiple expressions.\n2. Can get messy with complex logic like if-elif-else.",
      "metadata": {}
    },
    {
      "cell_type": "markdown",
      "source": "# Examples\n\n## Example 1: Larger Number.\n## Given: Two integers \n## Task: Find the larger one among the two using a lambda function",
      "metadata": {}
    },
    {
      "cell_type": "code",
      "source": "num1 = 1\nnum2 = 2\nlarger = lambda num1,num2:num1 if num1>num2 else num2\nprint(larger(num1,num2))",
      "metadata": {
        "trusted": true
      },
      "outputs": [
        {
          "name": "stdout",
          "text": "2\n",
          "output_type": "stream"
        }
      ],
      "execution_count": 5
    },
    {
      "cell_type": "markdown",
      "source": "# File Input / Output (I/O)\n## Definition:\nFile Input/Output (I/O) refers to the process of reading from and writing data to files, handling both text files (human-readable data) and binary files (non-text data) with modes \"r\" and \"w\" for reading and writing textual data , and \"rb\" and \"wb\" for reading and writing binary data specifically followed by the file name.\n",
      "metadata": {}
    },
    {
      "cell_type": "markdown",
      "source": "## Purpose:\nTo allow programs to save data to files, read data from them, manage information that persists after the program finishes running, and retrieve user information when needed for processing or decision-making.",
      "metadata": {}
    },
    {
      "cell_type": "markdown",
      "source": "## Importance:\nFile I/O is important as it allows data to be stored even after the program stops, like saving a document or recording user activity. It also helps when working with large amounts of data by reading or writing small parts at a time, which saves memory, though slow in performance with large dataset but memory efficient as stores in small chunks.\n\n",
      "metadata": {}
    },
    {
      "cell_type": "markdown",
      "source": "## Applications:\n1. Many web applications read user-uploaded files and process them (e.g., image uploads, document processing)\n2. Backup applications use file I/O to read data from one location and write it to another (like cloud storage or external drives), ensuring data safety.\n3. When a user changes their preferences (like the theme or layout of an app), File I/O saves those settings to a file. The next time the app runs, it reads the settings from the file to load them. ",
      "metadata": {}
    },
    {
      "cell_type": "markdown",
      "source": "## Strengths:\n1. Instead of loading all data into memory, programs can read or write data in smaller chunks, ensuring efficient memory usage.\n2. Allows user to interact with the program",
      "metadata": {}
    },
    {
      "cell_type": "markdown",
      "source": "## Weaknesses: \n1. Prone to Risks, if user tries to access sensitive files.\n2. Slow in performance.",
      "metadata": {}
    },
    {
      "cell_type": "markdown",
      "source": "## Suitable to use:\nFile I/O is used in many tasks, such as creating backups, logging information, and loading or saving user settings.",
      "metadata": {}
    },
    {
      "cell_type": "markdown",
      "source": "# Examples:\n# Example 1:\n## Given:\nA program that collects basic information from students and generates a student slip if they are currently enrolled in their program. The information collected will include the student's name, department, roll number, and enrollment status.",
      "metadata": {}
    },
    {
      "cell_type": "code",
      "source": "# Ask for user input\nname = input(\"Enter your name: \")\ndepartment = input(\"Enter your department: \")\nroll_no = input(\"Enter your roll number: \")\nenrolled = input(\"Are you currently enrolled? (yes/no): \")\n\n# Create and write to the file if the student is enrolled\n\nif enrolled == \"yes\":\n    outfile = open(\"student_slip.txt\", \"w\")  # Specify the file name\n    outfile.write(f\"Student Slip\\nName: {name}\\nDepartment: {department}\\nRoll No: {roll_no}\\n\")\n    outfile.close()  # Close the file\n\n    print(\"Your slip has been created.\")\nelse:\n    print(\"You are not currently enrolled. No slip created.\")\n",
      "metadata": {
        "trusted": true
      },
      "outputs": [],
      "execution_count": null
    },
    {
      "cell_type": "markdown",
      "source": "## Example 2: \nGiven:\nYou have 4 students named student 1, student 2, etc., and random seat numbers assigned to them.\n\nTask:\nThe program writes the student names and their seat numbers to a file. Then, it asks the user for a student's name, searches for the student in the file, and prints their seat number.",
      "metadata": {}
    },
    {
      "cell_type": "code",
      "source": "import random\n\n\nstudents = (\"student 1\", \"student 2\", \"student 3\", \"student 4\")\nseats = {student: random.randint(1,50) for student in students}\n\n# Write the student-seat data to a file\nfile = open('students_seats.txt', 'w')\nfor student, seat in seats.items():\n        print(f\"{student}: {seat}\")\n        file.write(f'{student}: {seat}')\nfile.close()\n\nstudent_inpt = input(\"Enter the student number:\")\n\nfile = open(\"students_seats.txt\", 'r')\nfor line in file:\n     if student_inpt in line:\n          print(line)\n\n",
      "metadata": {
        "trusted": true
      },
      "outputs": [],
      "execution_count": null
    },
    {
      "cell_type": "markdown",
      "source": "# Real World Example\n## Given:\nA file named attendance.txt exists, which contains student attendance records.\n\n## Task:\nThe task is to create a backup of this file to ensure data safety in case the original file is lost or corrupted.",
      "metadata": {}
    },
    {
      "cell_type": "code",
      "source": "\n\n# Function to take attendance and store in a file\n\ndef take_attendance(attendance_file):\n        students = [\"Student 1\" , \"Student 2\", \"Student 3\"]\n        attendance = {student: \"Present\" for student in students}\n        \n    \n    \nfile = open(attendance_file, \"w\")\nfor student, status in attendance.items():\n     file.write(f\"{student}: {status}\\n\")\nfile.close()\nprint(\"Attendance recorded.\")\n        \n\n# Function to back up attendance file\ndef backup_attendance(attendance_file, backup_file):\n    # Read the original attendance file\n    file = open(attendance_file, 'r')\n    attendance_data = file.readlines()\n    file.close()\n    \n    # Write the data to the backup file (backup storage)\n    file = open(backup_file, 'w')\n    for line in attendance_data:\n        file.write(line)\n    file.close()\n    \n    print(f\"Attendance backup created: {backup_file}\")\n\nattendance_file = 'attendance.txt'\nbackup_file = 'attendance_backup.txt'\n\ntake_attendance(attendance_file)\n\nbackup_attendance(attendance_file, backup_file)\n\n\n\n",
      "metadata": {
        "trusted": true
      },
      "outputs": [],
      "execution_count": null
    },
    {
      "cell_type": "code",
      "source": "",
      "metadata": {
        "trusted": true
      },
      "outputs": [],
      "execution_count": null
    }
  ]
}